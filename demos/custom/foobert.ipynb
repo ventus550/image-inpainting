{
 "cells": [
  {
   "cell_type": "markdown",
   "metadata": {},
   "source": [
    "### Custom BERT implementation"
   ]
  },
  {
   "cell_type": "code",
   "execution_count": null,
   "metadata": {},
   "outputs": [],
   "source": [
    "%cd ../..\n",
    "import torch\n",
    "from inpainting.models import FOOBERT\n",
    "from inpainting.trainer import Trainer\n",
    "from inpainting.datasets import MNIST\n",
    "from inpainting.utils import configure_environment\n",
    "\n",
    "seed = torch.randint(0, 123456, (1,)).item()\n",
    "configure_environment(seed=seed)"
   ]
  },
  {
   "cell_type": "code",
   "execution_count": 2,
   "metadata": {},
   "outputs": [],
   "source": [
    "mnist = MNIST(frac=0.05, clusters=35, unimask=False, shape=2)"
   ]
  },
  {
   "cell_type": "code",
   "execution_count": 3,
   "metadata": {},
   "outputs": [],
   "source": [
    "model = FOOBERT(\n",
    "    vocab_size = mnist.tokens,                      # BERT's vocabulary size\n",
    "    embed_size = mnist.tokens * 12,                 # Hidden size\n",
    "    num_layers = 8,                                 # Number of Transformer layers\n",
    "    num_heads = 12,                                 # Numbertargets of attention heads\n",
    "    ff_hidden = 3200,                               # Feed-forward hidden size\n",
    "    max_len = (28//mnist.shape)**2,                 # Maximum sequence length\n",
    "    dropout = 0.00,\n",
    "\t# ce_weights=weights,\n",
    "\tpatches=mnist.itop(torch.arange(mnist.clusters)),\n",
    ")"
   ]
  },
  {
   "cell_type": "code",
   "execution_count": null,
   "metadata": {},
   "outputs": [],
   "source": [
    "Trainer(model, mnist).train(epochs=50, batch_size=100, lr=2e-4)"
   ]
  },
  {
   "cell_type": "code",
   "execution_count": null,
   "metadata": {},
   "outputs": [],
   "source": [
    "x = mnist[9][\"input_ids\"]\n",
    "mnist.plot_sample(x)"
   ]
  },
  {
   "cell_type": "code",
   "execution_count": null,
   "metadata": {},
   "outputs": [],
   "source": [
    "y = model(x.unsqueeze(0).cuda()).logits.argmax(dim=-1).cpu()\n",
    "mnist.plot_sample(y)"
   ]
  },
  {
   "cell_type": "code",
   "execution_count": 7,
   "metadata": {},
   "outputs": [],
   "source": [
    "model.save(f\"saved/foobert_{seed}\")"
   ]
  }
 ],
 "metadata": {
  "kernelspec": {
   "display_name": "image-inpainting-rudDGIrt-py3.12",
   "language": "python",
   "name": "python3"
  },
  "language_info": {
   "codemirror_mode": {
    "name": "ipython",
    "version": 3
   },
   "file_extension": ".py",
   "mimetype": "text/x-python",
   "name": "python",
   "nbconvert_exporter": "python",
   "pygments_lexer": "ipython3",
   "version": "3.12.7"
  }
 },
 "nbformat": 4,
 "nbformat_minor": 2
}
